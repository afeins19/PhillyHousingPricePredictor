{
 "cells": [
  {
   "cell_type": "markdown",
   "metadata": {},
   "source": [
    "# Philadelphia Housing Sale Price Predictor \n",
    "\n",
    "## Models \n",
    "Below are various models that will predict the sale price of homes in Philadelphia. The models Used are: \n",
    "- Linear Regression\n",
    "- Decision Trees\n",
    "- Random Forest \n",
    "- Gradeint Boosting \n",
    "\n",
    "## Data\n",
    "Data is gathered from the city of philadelphia website for property data: https://www.phila.gov/property/data/\n",
    "\n",
    "### Data Preprocessing \n",
    "Data from this dataset underwent extensive cleaning and preprocessing. Below are some of the main preprocessing techniques used to parse the data:\n",
    "- Principle Component Analysis (PCA)\n",
    "- One-hot Encoding \n",
    "- Binary Encoding \n",
    "- Inter-Quartile Range (IQR) "
   ]
  },
  {
   "cell_type": "markdown",
   "metadata": {},
   "source": [
    "# Importing and Analysing the dataset\n",
    "below, I import the necessary libraries to process the data set and load in the dataset itself. I also perform some preliminary analysis on the data to get some basic statistics and the shape of the dataset. "
   ]
  },
  {
   "cell_type": "code",
   "execution_count": 238,
   "metadata": {},
   "outputs": [
    {
     "name": "stderr",
     "output_type": "stream",
     "text": [
      "C:\\Users\\aaron\\AppData\\Local\\Temp\\ipykernel_18064\\1581772330.py:6: DtypeWarning: Columns (5,26,49,77) have mixed types. Specify dtype option on import or set low_memory=False.\n",
      "  raw_data = pd.read_csv(r'opa_properties_public.csv')\n"
     ]
    },
    {
     "name": "stdout",
     "output_type": "stream",
     "text": [
      "\n",
      "\tData Statistics: \n",
      "Data Shape: (582933, 82)\n",
      "\n",
      "\tDataset Attributes:\n",
      "Attributes: Index(['the_geom', 'the_geom_webmercator', 'assessment_date', 'basements',\n",
      "       'beginning_point', 'book_and_page', 'building_code',\n",
      "       'building_code_description', 'category_code',\n",
      "       'category_code_description', 'census_tract', 'central_air',\n",
      "       'cross_reference', 'date_exterior_condition', 'depth',\n",
      "       'exempt_building', 'exempt_land', 'exterior_condition', 'fireplaces',\n",
      "       'frontage', 'fuel', 'garage_spaces', 'garage_type',\n",
      "       'general_construction', 'geographic_ward', 'homestead_exemption',\n",
      "       'house_extension', 'house_number', 'interior_condition', 'location',\n",
      "       'mailing_address_1', 'mailing_address_2', 'mailing_care_of',\n",
      "       'mailing_city_state', 'mailing_street', 'mailing_zip', 'market_value',\n",
      "       'market_value_date', 'number_of_bathrooms', 'number_of_bedrooms',\n",
      "       'number_of_rooms', 'number_stories', 'off_street_open',\n",
      "       'other_building', 'owner_1', 'owner_2', 'parcel_number', 'parcel_shape',\n",
      "       'quality_grade', 'recording_date', 'registry_number', 'sale_date',\n",
      "       'sale_price', 'separate_utilities', 'sewer', 'site_type', 'state_code',\n",
      "       'street_code', 'street_designation', 'street_direction', 'street_name',\n",
      "       'suffix', 'taxable_building', 'taxable_land', 'topography',\n",
      "       'total_area', 'total_livable_area', 'type_heater', 'unfinished', 'unit',\n",
      "       'utility', 'view_type', 'year_built', 'year_built_estimate', 'zip_code',\n",
      "       'zoning', 'pin', 'building_code_new', 'building_code_description_new',\n",
      "       'objectid', 'lat', 'lng'],\n",
      "      dtype='object')\n"
     ]
    }
   ],
   "source": [
    "import pandas as pd \n",
    "import numpy as np \n",
    "import matplotlib.pyplot as plt \n",
    "import seaborn as sns # advanced plotter \n",
    "\n",
    "raw_data = pd.read_csv(r'opa_properties_public.csv') \n",
    "\n",
    "# target is the sale_price attribute \n",
    "target = raw_data['sale_price']\n",
    "\n",
    "print(\"\\n\\tData Statistics: \")\n",
    "print(f\"Data Shape: { raw_data.shape }\")\n",
    "#print(f\"Statistics: { housing_data.describe }\")\n",
    "\n",
    "print(\"\\n\\tDataset Attributes:\")\n",
    "print(f\"Attributes: {raw_data.columns}\")\n",
    "\n"
   ]
  },
  {
   "cell_type": "markdown",
   "metadata": {},
   "source": [
    "### Dropping Useless Attributes \n",
    "\n",
    "after sifting through the data there were many attributes that fit into the following categories:\n",
    "- redundant (mailing_address_1 AND mailing_address_2 for example)\n",
    "- uninformative (book_and_page, assesment_date etc.)\n",
    "\n",
    "Some attributes were dropped due to the fact that they would simply add noise to the ML models those are given below: \n",
    "- street_name - dropped since streets may run all throughout the city and the same street may have homes of different prices "
   ]
  },
  {
   "cell_type": "code",
   "execution_count": 239,
   "metadata": {},
   "outputs": [],
   "source": [
    "# attributes to be dropped\n",
    "to_drop = ['the_geom', 'assessment_date', 'beginning_point', 'book_and_page', \n",
    "    'category_code_description', 'cross_reference', 'house_number', 'location', \n",
    "    'mailing_address_1', 'mailing_address_2', 'mailing_care_of', 'mailing_city_state', \n",
    "    'mailing_street', 'market_value_date', 'the_geom_webmercator', 'other_building', \n",
    "    'owner_1', 'owner_2', 'parcel_number', 'recording_date',  'registry_number', \n",
    "    'unit', 'objectid', 'building_code', 'census_tract', \n",
    "    'date_exterior_condition', 'year_built_estimate', 'house_extension', 'mailing_zip', \n",
    "    'sewer', 'site_type', 'state_code', 'street_designation', 'street_name', \n",
    "    'street_direction', 'geographic_ward', 'parcel_shape', 'building_code_new', 'zoning', \n",
    "    'exempt_land', 'off_street_open', 'pin', 'sale_date', 'street_code', \n",
    "    'view_type', 'lat', 'lng', 'building_code_description', 'topography', 'census_tract']\n",
    "\n",
    "\n",
    "# dropping the attributes and setting up our main 'data' dataframe \n",
    "data = raw_data.drop(to_drop, axis=1)\n"
   ]
  },
  {
   "cell_type": "markdown",
   "metadata": {},
   "source": [
    "### Handling Missing Values and NaNs\n",
    " "
   ]
  },
  {
   "cell_type": "markdown",
   "metadata": {},
   "source": [
    "first will look directly at our target attribute ('sale_price') and drop missing values from it. In this step, I will only handle the removal of...\n",
    "- missing values\n",
    "- place holder values (0 or 1)"
   ]
  },
  {
   "cell_type": "code",
   "execution_count": 240,
   "metadata": {},
   "outputs": [
    {
     "name": "stdout",
     "output_type": "stream",
     "text": [
      "Missing Values in Target: 2534\n",
      "Rows with sale Price as 1 or 0: 157670\n"
     ]
    }
   ],
   "source": [
    "# analyzing target attribute: sale_price \n",
    "print(f\"Missing Values in Target: {target.isnull().sum()}\") # 2534 missing values \n",
    "\n",
    "# dropping rows with missing 'sale_price' values \n",
    "data = data.dropna(subset=['sale_price'])\n",
    "\n",
    "# checking if dataset has any place holders and dropping them \n",
    "place_holder_rows = data[data['sale_price'] <= 1]\n",
    "print(f\"Rows with sale Price as 1 or 0: {len(place_holder_rows)}\") # 157670 rows\n",
    "\n",
    "# dropping place holder values of 0 or 1 \n",
    "data = data.drop(data[data.sale_price <= 1].index)\n",
    "\n"
   ]
  },
  {
   "cell_type": "markdown",
   "metadata": {},
   "source": [
    "Now, I'll gather some data about missing values in attrbiutes other than the target. I do this by generating some data and graphs about collumns with some amount of data missing. I feel that it is justified to drop rows from the dataset if the total amount of missing values in a given column is at most 5% of the the number of usable rows, that is i'll set my threshold to 5% of len(data)."
   ]
  },
  {
   "cell_type": "code",
   "execution_count": 241,
   "metadata": {},
   "outputs": [
    {
     "name": "stdout",
     "output_type": "stream",
     "text": [
      "Max Missing Data Threshold: 21136.45\n"
     ]
    },
    {
     "data": {
      "text/plain": [
       "Text(0, 0.5, 'Feature Name')"
      ]
     },
     "execution_count": 241,
     "metadata": {},
     "output_type": "execute_result"
    },
    {
     "data": {
      "image/png": "[encoded data removed]",
      "text/plain": [
       "<Figure size 640x480 with 1 Axes>"
      ]
     },
     "metadata": {},
     "output_type": "display_data"
    }
   ],
   "source": [
    "# graph of missing data attributes \n",
    "missing_data_threshold = 0.05 * len(data)\n",
    "print(f\"Max Missing Data Threshold: {missing_data_threshold}\") # 5% of the data equates to roughly 20,500 rows \n",
    "\n",
    "missing = data.isnull().sum()\n",
    "missing = missing[missing >= missing_data_threshold]\n",
    "missing.sort_values(inplace=True)\n",
    "\n",
    "missing.plot.barh() \n",
    "plt.title(\"\"\"Features with more than 5% of values missing\"\"\")\n",
    "plt.xlabel(\"Count of Missing Values\")\n",
    "plt.ylabel(\"Feature Name\")"
   ]
  },
  {
   "cell_type": "markdown",
   "metadata": {},
   "source": [
    "This bar chart provides some important insights. The most glaring of which are that attributes like 'utility', 'unfinished', 'suffix', 'number_of_rooms' etc. Have nearly **ALL** of their rows missing! I will need to either drop or impute these values as well as perform some analysis on their actual meanings as well. I will use these notes as a reference to the meaning of these attributes:"
   ]
  },
  {
   "cell_type": "markdown",
   "metadata": {},
   "source": [
    "### Dropping Features With High Quantities of Missing Data"
   ]
  },
  {
   "cell_type": "code",
   "execution_count": 242,
   "metadata": {},
   "outputs": [
    {
     "name": "stdout",
     "output_type": "stream",
     "text": [
      "Total Columns Remaining: 22\n"
     ]
    }
   ],
   "source": [
    "# selecting attributes to drop\n",
    "attrs_exceed_missing = ['utility', 'unfinished', 'suffix', 'garage_type', 'number_of_rooms',\n",
    "'separate_utilities', 'fuel', 'basements', 'central_air', 'type_heater', 'basements', 'building_code_description_new']\n",
    "\n",
    "# dropping the attributes \n",
    "data = data.drop(attrs_exceed_missing, axis=1)\n",
    "\n",
    "\n",
    "print(f\"Total Columns Remaining: { data.shape[1] }\")"
   ]
  },
  {
   "cell_type": "markdown",
   "metadata": {},
   "source": [
    "### Understanding the Features\n",
    "\n",
    "_Category code_: the type of a particular building\n",
    "\n",
    "| Code | Count  | Description       |\n",
    "|------|--------|-------------------|\n",
    "| 1    | 426976 | Single Family     |\n",
    "| 6    | 44928  | Vacant Land       |\n",
    "| 2    | 41538  | Multi Family      |\n",
    "| 3    | 14489  | Mixed Use         |\n",
    "| 4    | 13125  | Commercial        |\n",
    "| 5    | 4286   | Industrial        |\n",
    "\n",
    "I will only consider single family homes for the following reasons:\n",
    "- they represent the majority of the data set (about 78%)\n",
    "- vacant, industrial, commercial land is not relevant\n",
    "- mixed use is vague (probably business and homes in same building)\n",
    "- multi family is fairly small (roughly 10% of the homes) and difficult to interpret on a single household basis \n",
    "\n",
    "\n",
    "\n"
   ]
  },
  {
   "cell_type": "code",
   "execution_count": 243,
   "metadata": {},
   "outputs": [
    {
     "name": "stdout",
     "output_type": "stream",
     "text": [
      "340327\n"
     ]
    }
   ],
   "source": [
    "# keeping only single family designated homes  \n",
    "data = data[data['category_code'] == 1]\n",
    "print(len(data)) # 332307 homes remain "
   ]
  },
  {
   "cell_type": "markdown",
   "metadata": {},
   "source": [
    "_Depth_: not clear what depth is - most likely depth of the home\n",
    "the data is set to 0 at some points which seems to be a place holder and doesnt make sense (a house cant have a depth of 0). I will drop all rows with depth=0"
   ]
  },
  {
   "cell_type": "code",
   "execution_count": 244,
   "metadata": {},
   "outputs": [
    {
     "name": "stdout",
     "output_type": "stream",
     "text": [
      "313087\n"
     ]
    }
   ],
   "source": [
    "# dropping all rows with a depth of 0\n",
    "data = data.drop(data[data.depth == 0].index)\n",
    "print(len(data)) # 305633"
   ]
  },
  {
   "cell_type": "markdown",
   "metadata": {},
   "source": [
    "_zip_code_: the zipcode of where the home is located. This will be treated as a categorical vairable (encoding will happen later after cleaning).\n",
    "first zip codes in this dataset are given in the following format: `18974-0000`. We need to drop the hyphen. \n",
    "Also, I will look at the density of homes within each zip code and really only consider densly populated zip codes as they represent the cost of homes within the greater philadelphia area. "
   ]
  },
  {
   "cell_type": "code",
   "execution_count": 245,
   "metadata": {},
   "outputs": [
    {
     "name": "stdout",
     "output_type": "stream",
     "text": [
      "Distinct Zip Codes: 48\n",
      "7\n",
      "Type of all zipcodes: int64\n"
     ]
    }
   ],
   "source": [
    "# getting the number of zipcodes \n",
    "zip_codes = data.zip_code.value_counts(dropna=False)\n",
    "print(f\"Distinct Zip Codes: {len(zip_codes)}\") # 47 zipcodes \n",
    "print(data['zip_code'].isnull().sum()) # only 7 rows with missing zip codes so we can drop\n",
    "\n",
    "data = data.dropna(subset=['zip_code'])\n",
    "    # formatting the zips \n",
    "\n",
    "# cutting everything after 5 chars and all strings \n",
    "new_zip_values = data['zip_code'].apply(lambda x: f\"{int(str(x).strip()[:5]):05d}\")\n",
    "\n",
    "# converting to int and inserting into the zip_code col\n",
    "data['zip_code'] = new_zip_values.astype('int64', errors='ignore')\n",
    "\n",
    "print(f\"Type of all zipcodes: {data['zip_code'].dtype}\") # verifying this worked \n"
   ]
  },
  {
   "cell_type": "markdown",
   "metadata": {},
   "source": [
    "_exterior_condition_ - this seems like an important metric to keep around since it doesnt have too many missing values and can reasonably expected to correlate with the sale price. The Following Codes are given for the designations: \n",
    "\n",
    "| Numerical Value | Category Label                           |\n",
    "|-----------------|------------------------------------------|\n",
    "| 0.0             | Not Applicable                           |\n",
    "| 1.0             | New                          |\n",
    "| 2.0             | Newer Construction / Rehabbed            |\n",
    "| 3.0             | Above Average                            |\n",
    "| 4.0             | Average                                  |\n",
    "| 5.0             | Below Average                            |\n",
    "| 6.0             | Vacant                                   |\n",
    "| 7.0             | Sealed / Structurally Compromised        |\n",
    "\n",
    "\n",
    "\n",
    "\n",
    " I will then try to visualize the market value - exterior condition relationship with a box plot below: "
   ]
  },
  {
   "cell_type": "code",
   "execution_count": 246,
   "metadata": {},
   "outputs": [
    {
     "name": "stdout",
     "output_type": "stream",
     "text": [
      "Number of Usable Rows: 313080\n"
     ]
    },
    {
     "data": {
      "image/png": "[encoded data removed]",
      "text/plain": [
       "<Figure size 1000x600 with 1 Axes>"
      ]
     },
     "metadata": {},
     "output_type": "display_data"
    }
   ],
   "source": [
    "print(f\"Number of Usable Rows: {len(data)}\")\n",
    "\n",
    "# making the box plot\n",
    "plt.figure(figsize=(10, 6))  \n",
    "sns.boxplot(x='exterior_condition', y='market_value', data=data)\n",
    "\n",
    "\n",
    "# setting the limits so its easier to see the bars \n",
    "plt.ylim(0, 750000)\n",
    "\n",
    "plt.title('Market Value vs. Exterior Condition')\n",
    "plt.xlabel('Exterior Condition')\n",
    "plt.ylabel('Market Value')\n",
    "plt.show()"
   ]
  },
  {
   "cell_type": "markdown",
   "metadata": {},
   "source": [
    "_interior_condition_: similarly, we can observe the trends of the interior condition with respect to market value \n"
   ]
  },
  {
   "cell_type": "code",
   "execution_count": 247,
   "metadata": {},
   "outputs": [
    {
     "data": {
      "image/png": "[encoded data removed]",
      "text/plain": [
       "<Figure size 1000x600 with 1 Axes>"
      ]
     },
     "metadata": {},
     "output_type": "display_data"
    }
   ],
   "source": [
    "\n",
    "# making the box plot\n",
    "plt.figure(figsize=(10, 6))  \n",
    "sns.boxplot(x='interior_condition', y='market_value', data=data)\n",
    "\n",
    "\n",
    "# setting the limits so its easier to see the bars \n",
    "plt.ylim(0, 750000)\n",
    "\n",
    "plt.title('Market Value vs. Interior Condition')\n",
    "plt.xlabel('Interior Condition')\n",
    "plt.ylabel('Market Value')\n",
    "plt.show()"
   ]
  },
  {
   "cell_type": "markdown",
   "metadata": {},
   "source": [
    "I will drop all Nan Rows for interior_condition and exterior_condition "
   ]
  },
  {
   "cell_type": "code",
   "execution_count": 248,
   "metadata": {},
   "outputs": [],
   "source": [
    "# dropping Nans from these attributes \n",
    "data = data.dropna(subset=['exterior_condition'])\n",
    "data = data.dropna(subset=['interior_condition'])"
   ]
  },
  {
   "cell_type": "markdown",
   "metadata": {},
   "source": [
    "_quality_grade_ - the rating of quality of the home I will inspect the unique quality grades and count the missing values below.\n",
    "\n",
    "Since the majority of the data exists within the valid_grades rating system I defined (a subset of all possible quality grades, I will just keep those). \n",
    "Since, after plotting a grade of 'C' is by far the most common rating, i feel it is reasonable to impute the 1325 missing values (Nans) with the grade of C. This makes intuitive sense since C corresponds to Average. \n"
   ]
  },
  {
   "cell_type": "code",
   "execution_count": 249,
   "metadata": {},
   "outputs": [
    {
     "name": "stdout",
     "output_type": "stream",
     "text": [
      "Unique Quality Grades: ['B ' 'C ' 'C+' nan 'A-' 'D ' 'B+' 'A ' 'D+' 'D-' 'B-' 'C-' 'E+' 'E ' 'A+'\n",
      " '3 ' 'S ' 'E-' 'X-' '4 ' '5 ' '6 ' 'X ' 'S+' 'S-' 'X+']\n",
      "NaN Quality Scores: 3881\n",
      "Number of Grades in Logical Grading setup (A+, A, A-...): 308536\n"
     ]
    },
    {
     "data": {
      "image/png": "[encoded data removed]",
      "text/plain": [
       "<Figure size 1000x600 with 1 Axes>"
      ]
     },
     "metadata": {},
     "output_type": "display_data"
    }
   ],
   "source": [
    "    # unique grades for quality_grade\n",
    "\n",
    "# choosing grades that are interpretable\n",
    "valid_grades = ['A+', 'A ', 'A-', 'B+', 'B ', 'B-', 'C+', 'C ', 'C-', 'D+', 'D ', 'D-', 'E+', 'E ']\n",
    "\n",
    "# summing number of valid grades \n",
    "valid_grade_count = data['quality_grade'].isin(valid_grades).sum()\n",
    "\n",
    "print(f\"Unique Quality Grades: {data['quality_grade'].unique()}\")\n",
    "print(f\"NaN Quality Scores: {data['quality_grade'].isnull().sum()}\")\n",
    "print(f\"Number of Grades in Logical Grading setup (A+, A, A-...): {valid_grade_count}\")\n",
    "\n",
    "# counting values for all unique grades\n",
    "grade_counts = data['quality_grade'].value_counts()\n",
    "\n",
    "# plotting \n",
    "plt.figure(figsize=(10, 6))\n",
    "sns.barplot(x=grade_counts.index, y=grade_counts.values)\n",
    "\n",
    "plt.title('Counts of Quality Grades')\n",
    "plt.xlabel('Quality Grade')\n",
    "plt.ylabel('Counts')\n",
    "\n",
    "plt.show()"
   ]
  },
  {
   "cell_type": "markdown",
   "metadata": {},
   "source": [
    "Below, i will replace all quality grade values that are `Nan` with a 'C' and then drop those that arent in `valid_grades`"
   ]
  },
  {
   "cell_type": "code",
   "execution_count": 250,
   "metadata": {},
   "outputs": [
    {
     "name": "stdout",
     "output_type": "stream",
     "text": [
      "308536\n",
      "0\n"
     ]
    },
    {
     "name": "stderr",
     "output_type": "stream",
     "text": [
      "C:\\Users\\aaron\\AppData\\Local\\Temp\\ipykernel_18064\\1001785022.py:2: FutureWarning: A value is trying to be set on a copy of a DataFrame or Series through chained assignment using an inplace method.\n",
      "The behavior will change in pandas 3.0. This inplace method will never work because the intermediate object on which we are setting values always behaves as a copy.\n",
      "\n",
      "For example, when doing 'df[col].method(value, inplace=True)', try using 'df.method({col: value}, inplace=True)' or df[col] = df[col].method(value) instead, to perform the operation inplace on the original object.\n",
      "\n",
      "\n",
      "  data['quality_grade'].fillna('C', inplace=True)\n"
     ]
    }
   ],
   "source": [
    "# imputing the to the Nans \n",
    "data['quality_grade'].fillna('C', inplace=True)\n",
    "\n",
    "# dropping grades not in valid_grades\n",
    "data = data[data['quality_grade'].isin(valid_grades)]\n",
    "print(len(data))\n",
    "\n",
    "# verify it worked \n",
    "print(data['quality_grade'].isnull().sum()) "
   ]
  },
  {
   "cell_type": "markdown",
   "metadata": {},
   "source": [
    "_category_code_ - this was used to determine the type of home a particular building was. I limit these models to only work with single family homes (Category code 1) so this feature was necessary for dropping non-single family homes. Now we will drop it since all values in the dataset have category code 1."
   ]
  },
  {
   "cell_type": "code",
   "execution_count": 251,
   "metadata": {},
   "outputs": [],
   "source": [
    "# dropping category code \n",
    "data = data.drop(columns=['category_code'])"
   ]
  },
  {
   "cell_type": "markdown",
   "metadata": {},
   "source": [
    "### Nan Handling \n",
    "\n",
    "Above has been the majority of the work of dealing with dropping values, dealing with Nans and analyzing the data to get some preliminary results. The next part will involve feature engineering. As mentioned previously, some of the data contains placeholder values which will skew the ml models if left unaccoutned for. Usually values like 0 or 1 in features like total_area or year_built are meaningless and should be transformed into numpy nans. I will do this for the following attributes:\n",
    "- depth\n",
    "- total_area\n",
    "- total_livable_area\n",
    "- sale_price"
   ]
  },
  {
   "cell_type": "code",
   "execution_count": 252,
   "metadata": {},
   "outputs": [
    {
     "name": "stdout",
     "output_type": "stream",
     "text": [
      "Before Place Holder Removal:\n",
      "depth : [1.0, 4.0, 5.0, 6.0, 8.0]\n",
      "total_area : [0.0, 24.0, 49.0, 50.0, 52.0]\n",
      "total_livable_area : [0.0, 1.0, 64.0, 125.0, 128.0]\n",
      "sale_price : [2.0, 3.0, 4.0, 5.0, 6.0]\n",
      "\n",
      "After Place Holder Removal:\n",
      "depth : [4.0, 5.0]\n",
      "total_area : [24.0, 49.0]\n",
      "total_livable_area : [64.0, 128.0]\n",
      "sale_price : [2.0, 3.0]\n"
     ]
    }
   ],
   "source": [
    "featuers_with_place_holders = ['depth', 'total_area', 'total_livable_area', 'sale_price']\n",
    "\n",
    "print('Before Place Holder Removal:')\n",
    "for feature in featuers_with_place_holders:\n",
    "    print(f\"{feature} : {sorted(data[feature].unique())[:5]}\")\n",
    "\n",
    "print('\\nAfter Place Holder Removal:')\n",
    "# transforming placeholder values into nans \n",
    "for feature in featuers_with_place_holders:\n",
    "    data[feature] = data[feature].replace(0, np.nan)\n",
    "    data[feature] = data[feature].replace(1, np.nan)\n",
    "    print(f\"{feature} : {sorted(data[feature].unique())[:2]}\")"
   ]
  },
  {
   "cell_type": "code",
   "execution_count": 253,
   "metadata": {},
   "outputs": [
    {
     "name": "stdout",
     "output_type": "stream",
     "text": [
      "(308536, 21)\n",
      "Index(['depth', 'exempt_building', 'exterior_condition', 'fireplaces',\n",
      "       'frontage', 'garage_spaces', 'general_construction',\n",
      "       'homestead_exemption', 'interior_condition', 'market_value',\n",
      "       'number_of_bathrooms', 'number_of_bedrooms', 'number_stories',\n",
      "       'quality_grade', 'sale_price', 'taxable_building', 'taxable_land',\n",
      "       'total_area', 'total_livable_area', 'year_built', 'zip_code'],\n",
      "      dtype='object')\n"
     ]
    }
   ],
   "source": [
    "# final set of columns \n",
    "print(data.shape)\n",
    "print(data.columns)"
   ]
  },
  {
   "cell_type": "markdown",
   "metadata": {},
   "source": [
    "### Imputing Missing Values\n",
    "for the rest of the missing values, I will use the simple imputer from scikit-learn to impute the values. For these values, and based on the graphs above, I feel faily confident that doing a simple impuation using the median value for most of these items is logical. Things like quality/condition evaluations will tend towards average according to the data, and generally homes share similar numbers of bedrooms, bathrooms, etc. based on their size. "
   ]
  },
  {
   "cell_type": "markdown",
   "metadata": {},
   "source": [
    "first i will fill values that are not available in the dataset, this will be done on the following attributes:\n",
    "- fireplaces\n",
    "- garage_spaces"
   ]
  },
  {
   "cell_type": "code",
   "execution_count": 254,
   "metadata": {},
   "outputs": [],
   "source": [
    "data['garage_space'] = data['garage_spaces'].fillna(0) # populating na valued rows for garage spaces with 0\n",
    "data['fireplaces'] = data['fireplaces'].fillna(0) # likewise for fireplaces "
   ]
  },
  {
   "cell_type": "code",
   "execution_count": 255,
   "metadata": {},
   "outputs": [
    {
     "name": "stdout",
     "output_type": "stream",
     "text": [
      "number_of_bathrooms\n",
      "number_of_bedrooms\n",
      "number_stories\n",
      "interior_condition\n",
      "exterior_condition\n",
      "year_built\n",
      "total_livable_area\n",
      "total_area\n",
      "frontage\n",
      "taxable_building\n",
      "exempt_building\n",
      "depth\n",
      "garage_spaces\n"
     ]
    }
   ],
   "source": [
    "from sklearn.impute import SimpleImputer \n",
    "median_imputer = SimpleImputer(strategy='median') # creating an imputer to populate emptys with the median value \n",
    "\n",
    "# features for imputation\n",
    "imputed_features = ['number_of_bathrooms', 'number_of_bedrooms', \n",
    "'number_stories', 'interior_condition', 'exterior_condition' , \n",
    "'year_built', 'total_livable_area', 'total_area', 'frontage', \n",
    "'taxable_building', 'exempt_building', 'depth', 'garage_spaces'] \n",
    "\n",
    "\n",
    "for feature in imputed_features:\n",
    "    data[feature] = median_imputer.fit_transform(data[[feature]])\n",
    "    print(feature)\n"
   ]
  },
  {
   "cell_type": "markdown",
   "metadata": {},
   "source": [
    "# Feature Engineering \n",
    "In this section, I will: \n",
    "- analyze correlations between attributes and the target (market value)\n",
    "- impute missing values \n",
    "- encode data appropriately \n",
    "- scale the data\n",
    "- standardize the data \n",
    "- perform outlier analysis and removal "
   ]
  },
  {
   "cell_type": "markdown",
   "metadata": {},
   "source": [
    "### Selecting and Encoding Categorical Data\n",
    "\n",
    "Since i will need to see how categorical attributes also affect the data, well need to encode them. I have selected the following attributes by eliminating those that had large quantities of missing values and were not relevant (such as adresses and pin codes). \n",
    "\n",
    "- exterior_condition\n",
    "- fireplaces\n",
    "- general_construction \n",
    "- interior_condition\n",
    "- quality_grade\n",
    "- year_built"
   ]
  },
  {
   "cell_type": "markdown",
   "metadata": {},
   "source": [
    "## Categorical Encodings\n",
    "below I will define encodings for no numerical data, i will be using:\n",
    "- One-Hot Encoding\n",
    "- Binary Encoding\n",
    "- Ordinal Encoding\n",
    "\n",
    "I will separate the features into lists denoting what type of encoding these features will get"
   ]
  },
  {
   "cell_type": "code",
   "execution_count": 256,
   "metadata": {},
   "outputs": [],
   "source": [
    "ordinal_encoding_features  = ['exterior_condition', 'interior_condition', 'quality_grade']\n",
    "one_hot_encoding_features = ['general_construction']\n",
    "binary_encoding_features = ['exempt_building', 'homestead_exemption']"
   ]
  },
  {
   "cell_type": "markdown",
   "metadata": {},
   "source": [
    "### One-Hot Encoded Data\n",
    "I will one-hot encode all features in the `one_hot_encdoing_features` column. Each one will be given a unique type of mapping based on the nature of the feature.\n",
    "\n",
    "notes:\n",
    "- exempt_building may be given as 0 for false, 1 for true so we must map that \n",
    "- exempt_land may function the same way as exempt_building except its 0.0 for some reason \n",
    "- homestead_exemption ahs cutoff of 80,000 for a TRUE exemption, 0 would be false "
   ]
  },
  {
   "cell_type": "code",
   "execution_count": 270,
   "metadata": {},
   "outputs": [
    {
     "name": "stderr",
     "output_type": "stream",
     "text": [
      "C:\\Users\\aaron\\AppData\\Local\\Temp\\ipykernel_18064\\2973926357.py:6: FutureWarning: Downcasting object dtype arrays on .fillna, .ffill, .bfill is deprecated and will change in a future version. Call result.infer_objects(copy=False) instead. To opt-in to the future behavior, set `pd.set_option('future.no_silent_downcasting', True)`\n",
      "  data_one_hot['homestead_exemption'] = data_one_hot['homestead_exemption'].fillna(False)\n",
      "C:\\Users\\aaron\\AppData\\Local\\Temp\\ipykernel_18064\\2973926357.py:10: FutureWarning: Downcasting object dtype arrays on .fillna, .ffill, .bfill is deprecated and will change in a future version. Call result.infer_objects(copy=False) instead. To opt-in to the future behavior, set `pd.set_option('future.no_silent_downcasting', True)`\n",
      "  data_one_hot['exempt_building'] = data_one_hot['exempt_building'].fillna(True)\n"
     ]
    }
   ],
   "source": [
    "# creating dummy vars \n",
    "data_one_hot = pd.get_dummies(data, columns=one_hot_encoding_features)\n",
    "\n",
    "# homestead_exemption \n",
    "data_one_hot['homestead_exemption'] = data_one_hot['homestead_exemption'].map({80000: True, 0: False})\n",
    "data_one_hot['homestead_exemption'] = data_one_hot['homestead_exemption'].fillna(False)\n",
    "\n",
    "# exempt_building\n",
    "data_one_hot['exempt_building'] = data_one_hot['exempt_building'].map({0: False}) \n",
    "data_one_hot['exempt_building'] = data_one_hot['exempt_building'].fillna(True)\n",
    "\n",
    "# converting boolean encoded variables to their numeric representations \n",
    "boolean_features = data_one_hot.select_dtypes(include=bool).columns\n",
    "data_one_hot[boolean_features] = data_one_hot[boolean_features].astype(int)"
   ]
  },
  {
   "cell_type": "markdown",
   "metadata": {},
   "source": [
    "Lets do a final analysis on the "
   ]
  },
  {
   "cell_type": "markdown",
   "metadata": {},
   "source": [
    "### Ordinally Encoded Data\n",
    "this data will be ordinally encoded as they are \"grades\" of quality "
   ]
  },
  {
   "cell_type": "code",
   "execution_count": 258,
   "metadata": {},
   "outputs": [],
   "source": [
    "from sklearn.preprocessing import OrdinalEncoder \n",
    "\n",
    "exterior_condition_grades = sorted(data['exterior_condition'].dropna().unique().astype(int))\n",
    "interior_condition_grades = sorted(data['interior_condition'].dropna().unique().astype(int))\n",
    "\n",
    "# exterior_condition_grades = sorted([exterior_condition_grades], reverse=True)\n",
    "# interior_condition_grades = sorted([interior_condition_grades], reverse=True)\n",
    "\n",
    "\n",
    "quality_grades = sorted(data['quality_grade'].unique())\n",
    "\n",
    "# encdoing exterior condition \n",
    "exterior_condition_encoder = OrdinalEncoder(categories=[exterior_condition_grades])\n",
    "data['exterior_condition_encoded'] = exterior_condition_encoder.fit_transform(data[['exterior_condition']])\n",
    "\n",
    "# encdoing interior condition \n",
    "interior_condition_encoder = OrdinalEncoder(categories=[interior_condition_grades])\n",
    "data['interior_condition_encoded'] = interior_condition_encoder.fit_transform(data[['interior_condition']])\n",
    "\n",
    "# encoding quality grade \n",
    "quality_grade_encoder = OrdinalEncoder(categories=[quality_grades])\n",
    "data['quality_grades_encoded'] = quality_grade_encoder.fit_transform(data[['quality_grade']])\n"
   ]
  },
  {
   "cell_type": "markdown",
   "metadata": {},
   "source": [
    "### Outlier Handling "
   ]
  },
  {
   "cell_type": "markdown",
   "metadata": {},
   "source": [
    "##### Handling Market Value\n",
    "as this is the target variable, id like to section it off from the rest of the features"
   ]
  },
  {
   "cell_type": "code",
   "execution_count": 259,
   "metadata": {},
   "outputs": [],
   "source": [
    "# setting bounds\n",
    "market_value_bounds = [100, 2000000] # 100 < mv < 2,000,000 \n",
    "\n",
    "data = data[(data['market_value'] >= market_value_bounds[0]) & (data['market_value'] <= market_value_bounds[1])]\n"
   ]
  },
  {
   "cell_type": "markdown",
   "metadata": {},
   "source": [
    "##### Independent Features"
   ]
  },
  {
   "cell_type": "markdown",
   "metadata": {},
   "source": [
    "After analysis of the data, I set hard limits based on the counts and ragnes of values for each numerical attribute. This is due to the overwheling majority of the data being in a given range and only a small percentage (roughly 1-2%) skewing right in the features below. I therefore only kept the mean features and essentially arrived at a normal distribution. I used the VScode Data Wrangler to roughly calculate an IQR for the data set and set the bounds accordingly. "
   ]
  },
  {
   "cell_type": "code",
   "execution_count": 260,
   "metadata": {},
   "outputs": [],
   "source": [
    "# feature bounds\n",
    "depth_bounds = [10, 400]\n",
    "frontage_bounds = [0, 70]\n",
    "garage_bounds = [0, 3]\n",
    "number_of_bathrooms_bounds = [0, 6]\n",
    "number_of_bedrooms_bounds = [0, 6]\n",
    "number_of_stories_bounds = [0, 5]\n",
    "taxable_building_bounds = [0, 1000000]\n",
    "taxable_land_bounds = [0, 2000000]\n",
    "total_area_bounds = [0, 17000]\n",
    "total_livable_area_bounds = [0, 10000]\n",
    "year_built_bounds = [1900, 2024]\n",
    "\n",
    "# dropping outliers \n",
    "data = data[(data['depth'] >= depth_bounds[0]) & (data['depth'] <= depth_bounds[1])]\n",
    "data = data[(data['frontage'] >= frontage_bounds[0]) & (data['frontage'] <= frontage_bounds[1])]\n",
    "data = data[(data['garage_spaces'] >= garage_bounds[0]) & (data['garage_spaces'] <= garage_bounds[1])]\n",
    "data = data[(data['number_of_bathrooms'] >= number_of_bathrooms_bounds[0]) & (data['number_of_bathrooms'] <= number_of_bathrooms_bounds[1])]\n",
    "data = data[(data['number_of_bedrooms'] >= number_of_bedrooms_bounds[0]) & (data['number_of_bedrooms'] <= number_of_bedrooms_bounds[1])]\n",
    "data = data[(data['number_stories'] >= number_of_stories_bounds[0]) & (data['number_stories'] <= number_of_stories_bounds[1])]\n",
    "data = data[(data['taxable_building'] >= taxable_building_bounds[0]) & (data['taxable_building'] <= taxable_building_bounds[1])]\n",
    "data = data[(data['taxable_land'] >= taxable_land_bounds[0]) & (data['taxable_land'] <= taxable_land_bounds[1])]\n",
    "data = data[(data['total_area'] >= total_area_bounds[0]) & (data['total_area'] <= total_area_bounds[1])]\n",
    "data = data[(data['total_livable_area'] >= total_livable_area_bounds[0]) & (data['total_livable_area'] <= total_livable_area_bounds[1])]\n",
    "data = data[(data['year_built'] >= year_built_bounds[0]) & (data['year_built'] <= year_built_bounds[1])]"
   ]
  },
  {
   "cell_type": "code",
   "execution_count": 261,
   "metadata": {},
   "outputs": [],
   "source": [
    "# Q1 = y.quantile(0.25)\n",
    "# Q3 = y.quantile(0.75)\n",
    "# IQR = Q3 - Q1\n",
    "\n",
    "# # iqr thresholds\n",
    "# lower_bound = Q1 - 1.5 * IQR\n",
    "# upper_bound = Q3 + 1.5 * IQR\n"
   ]
  },
  {
   "cell_type": "code",
   "execution_count": 262,
   "metadata": {},
   "outputs": [
    {
     "name": "stdout",
     "output_type": "stream",
     "text": [
      "Correlation Values for Each Numerical Attribute to the Target:\n",
      "\n",
      "market_value                  1.000000\n",
      "taxable_land                  0.983586\n",
      "taxable_building              0.752590\n",
      "total_livable_area            0.583850\n",
      "exempt_building               0.506906\n",
      "year_built                    0.399955\n",
      "frontage                      0.298338\n",
      "total_area                    0.266137\n",
      "number_stories                0.261163\n",
      "fireplaces                    0.236299\n",
      "number_of_bathrooms           0.224582\n",
      "garage_space                  0.165151\n",
      "garage_spaces                 0.165151\n",
      "depth                         0.127068\n",
      "homestead_exemption           0.125794\n",
      "sale_price                    0.032455\n",
      "zip_code                     -0.048434\n",
      "number_of_bedrooms           -0.068683\n",
      "quality_grades_encoded       -0.221437\n",
      "exterior_condition           -0.438742\n",
      "exterior_condition_encoded   -0.438742\n",
      "interior_condition           -0.480197\n",
      "interior_condition_encoded   -0.480197\n",
      "Name: market_value, dtype: float64\n"
     ]
    }
   ],
   "source": [
    "numerical_data = data.select_dtypes(include=['number'])\n",
    "market_value_correlation = numerical_data.corr()\n",
    "market_value_correlation.sort_values(['market_value'], ascending=False, inplace=True)\n",
    "\n",
    "print(\"Correlation Values for Each Numerical Attribute to the Target:\\n\")\n",
    "print(market_value_correlation.market_value)\n"
   ]
  },
  {
   "cell_type": "code",
   "execution_count": 263,
   "metadata": {},
   "outputs": [
    {
     "ename": "NameError",
     "evalue": "name 'mv_correlations' is not defined",
     "output_type": "error",
     "traceback": [
      "\u001b[1;31m---------------------------------------------------------------------------\u001b[0m",
      "\u001b[1;31mNameError\u001b[0m                                 Traceback (most recent call last)",
      "Cell \u001b[1;32mIn[263], line 3\u001b[0m\n\u001b[0;32m      1\u001b[0m \u001b[38;5;66;03m# dropping things with less than 15% correlation to market value \u001b[39;00m\n\u001b[0;32m      2\u001b[0m df_correlated \u001b[38;5;241m=\u001b[39m market_value_correlation[\u001b[38;5;124m\"\u001b[39m\u001b[38;5;124mmarket_value\u001b[39m\u001b[38;5;124m\"\u001b[39m]\n\u001b[1;32m----> 3\u001b[0m f_columns \u001b[38;5;241m=\u001b[39m df_correlated[\u001b[38;5;28mabs\u001b[39m(\u001b[43mmv_correlations\u001b[49m) \u001b[38;5;241m>\u001b[39m \u001b[38;5;241m0.15\u001b[39m]\u001b[38;5;241m.\u001b[39mindex  \n\u001b[0;32m      5\u001b[0m df_filtered \u001b[38;5;241m=\u001b[39m data[f_columns] \n",
      "\u001b[1;31mNameError\u001b[0m: name 'mv_correlations' is not defined"
     ]
    }
   ],
   "source": [
    "# dropping things with less than 15% correlation to market value \n",
    "df_correlated = market_value_correlation[\"market_value\"]\n",
    "f_columns = df_correlated[abs(mv_correlations) > 0.15].index  \n",
    "\n",
    "df_filtered = data[f_columns] "
   ]
  },
  {
   "cell_type": "markdown",
   "metadata": {},
   "source": [
    "### Final Analysis\n",
    "After working with the data, we are now able to see the final count of missing values that need to be corrected. Below are some results that im happy with so i will now begin. To train my models "
   ]
  },
  {
   "cell_type": "code",
   "execution_count": null,
   "metadata": {},
   "outputs": [
    {
     "name": "stdout",
     "output_type": "stream",
     "text": [
      "                            Total   Percent\n",
      "building_code_description       0  0.000990\n",
      "number_stories                  0  0.000000\n",
      "interior_condition_encoded      0  0.000000\n",
      "exterior_condition_encoded      0  0.000000\n",
      "zip_code                        0  0.000000\n",
      "year_built                      0  0.000000\n",
      "total_livable_area              0  0.000000\n",
      "total_area                      0  0.000000\n",
      "taxable_land                    0  0.000000\n",
      "taxable_building                0  0.000330\n",
      "sale_price                      0  0.000000\n",
      "quality_grade                   0  0.000000\n",
      "number_of_bedrooms              0  0.000000\n",
      "category_code                   0  0.000000\n",
      "number_of_bathrooms             0  0.000000\n",
      "market_value                    0  0.000000\n",
      "interior_condition              0  0.000000\n",
      "homestead_exemption             0  0.000000\n",
      "garage_spaces                   0  0.000000\n",
      "frontage                        0  0.000000\n",
      "fireplaces                      0  0.036941\n",
      "exterior_condition              0  0.000000\n",
      "exempt_building                 0  0.000000\n",
      "depth                           0  0.000000\n",
      "quality_grades_encoded          0  0.000000\n"
     ]
    }
   ],
   "source": [
    "total = data.isnull().sum().sort_values(ascending=False)\n",
    "missing_data = pd.concat([total, percent], axis=1, keys=['Total', 'Percent'])\n",
    "\n",
    "print(missing_data)\n",
    "\n",
    "# final drop of nans\n",
    "data = data.dropna() \n"
   ]
  },
  {
   "cell_type": "code",
   "execution_count": null,
   "metadata": {},
   "outputs": [
    {
     "name": "stdout",
     "output_type": "stream",
     "text": [
      "(303067, 25)\n"
     ]
    }
   ],
   "source": [
    "# final count of columns \n",
    "print(data.shape)"
   ]
  },
  {
   "cell_type": "markdown",
   "metadata": {},
   "source": [
    "# Model Construction \n",
    "now we move on to building the models. \n",
    "\n",
    "Final feature set: \n",
    "\n",
    "features = ['depth', 'exempt_building', 'exterior_condition_encoded', 'fireplaces', \n",
    "            'frontage', 'garage_spaces', 'homestead_exemption', 'interior_condition_encoded', \n",
    "            'number_of_bathrooms', 'number_of_bedrooms', 'number_stories', \n",
    "            'quality_grades_encoded', 'taxable_building', 'taxable_land', 'total_area', \n",
    "            'total_livable_area', 'year_built', 'zip_code']\n"
   ]
  },
  {
   "cell_type": "markdown",
   "metadata": {},
   "source": [
    "### Linear Regression "
   ]
  },
  {
   "cell_type": "code",
   "execution_count": null,
   "metadata": {},
   "outputs": [
    {
     "name": "stdout",
     "output_type": "stream",
     "text": [
      "Mean Squared Error: 9595893.208830014\n",
      "R^2: 0.9996508048412591\n"
     ]
    }
   ],
   "source": [
    "from sklearn.model_selection import train_test_split\n",
    "from sklearn.linear_model import LinearRegression\n",
    "from sklearn.metrics import mean_squared_error, r2_score\n",
    "from sklearn.preprocessing import StandardScaler\n",
    "\n",
    "# Assuming df_filtered is your DataFrame and 'market_value' is the target\n",
    "\n",
    "# Remove rows with NaN values in any column\n",
    "df_filtered_clean = df_filtered.dropna()\n",
    "\n",
    "# Selecting features and target\n",
    "features = df_filtered_clean.drop(columns=['market_value'])\n",
    "y = df_filtered_clean['market_value']\n",
    "\n",
    "# Scaling features\n",
    "scaler = StandardScaler()\n",
    "features_scaled = scaler.fit_transform(features)\n",
    "\n",
    "# Splitting the data into training (80%) and testing (20%) sets\n",
    "X_train, X_test, y_train, y_test = train_test_split(features_scaled, y, test_size=0.2, random_state=42)\n",
    "\n",
    "# Creating the Linear Regression model\n",
    "model = LinearRegression()\n",
    "\n",
    "# Training the model\n",
    "model.fit(X_train, y_train)\n",
    "\n",
    "# Predicting the target values for the test set\n",
    "y_pred = model.predict(X_test)\n",
    "\n",
    "# Calculating the metrics\n",
    "mse = mean_squared_error(y_test, y_pred)\n",
    "r2 = r2_score(y_test, y_pred)\n",
    "\n",
    "print(f'Mean Squared Error: {mse}')\n",
    "print(f\"R^2: {r2}\")"
   ]
  },
  {
   "cell_type": "code",
   "execution_count": null,
   "metadata": {},
   "outputs": [
    {
     "name": "stdout",
     "output_type": "stream",
     "text": [
      "Decision Tree - Mean Squared Error: 29803358.630019467\n",
      "Decision Tree - R2 Score: 0.998915453900816\n"
     ]
    }
   ],
   "source": [
    "from sklearn.tree import DecisionTreeRegressor\n",
    "\n",
    "# Create a Decision Tree model\n",
    "dt_model = DecisionTreeRegressor(random_state=5)\n",
    "\n",
    "# Train the model\n",
    "dt_model.fit(X_train, y_train)\n",
    "\n",
    "# Predict on the test set\n",
    "dt_predictions = dt_model.predict(X_test)\n",
    "\n",
    "# Evaluate the model\n",
    "dt_mse = mean_squared_error(y_test, dt_predictions)\n",
    "dt_r2 = r2_score(y_test, dt_predictions)\n",
    "print(f'Decision Tree - Mean Squared Error: {dt_mse}')\n",
    "print(f'Decision Tree - R2 Score: {dt_r2}')\n"
   ]
  },
  {
   "cell_type": "code",
   "execution_count": null,
   "metadata": {},
   "outputs": [
    {
     "name": "stdout",
     "output_type": "stream",
     "text": [
      "Random Forest - Mean Squared Error: 20217389.53265638\n",
      "Random Forest - R2 Score: 0.9992642879205151\n"
     ]
    }
   ],
   "source": [
    "from sklearn.ensemble import RandomForestRegressor\n",
    "\n",
    "# Create a Random Forest model\n",
    "rf_model = RandomForestRegressor(n_estimators=100, random_state=5)\n",
    "\n",
    "# Train the model\n",
    "rf_model.fit(X_train, y_train)\n",
    "\n",
    "# Predict on the test set\n",
    "rf_predictions = rf_model.predict(X_test)\n",
    "\n",
    "# Evaluate the model\n",
    "rf_mse = mean_squared_error(y_test, rf_predictions)\n",
    "rf_r2 = r2_score(y_test, rf_predictions)\n",
    "print(f'Random Forest - Mean Squared Error: {rf_mse}')\n",
    "print(f'Random Forest - R2 Score: {rf_r2}')\n"
   ]
  }
 ],
 "metadata": {
  "kernelspec": {
   "display_name": "Python 3",
   "language": "python",
   "name": "python3"
  },
  "language_info": {
   "codemirror_mode": {
    "name": "ipython",
    "version": 3
   },
   "file_extension": ".py",
   "mimetype": "text/x-python",
   "name": "python",
   "nbconvert_exporter": "python",
   "pygments_lexer": "ipython3",
   "version": "3.11.8"
  }
 },
 "nbformat": 4,
 "nbformat_minor": 2
}
